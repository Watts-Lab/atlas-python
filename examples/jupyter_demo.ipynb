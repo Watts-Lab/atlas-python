{
 "cells": [
  {
   "cell_type": "code",
   "execution_count": 1,
   "id": "6397e698",
   "metadata": {},
   "outputs": [],
   "source": [
    "\"\"\"\n",
    "# Atlas SDK - Jupyter Demo\n",
    "\n",
    "This notebook shows how to use the Atlas SDK in Jupyter.\n",
    "\"\"\"\n",
    "\n",
    "from wattslab_atlas import AtlasClient\n",
    "from wattslab_atlas.models import FeatureCreate"
   ]
  },
  {
   "cell_type": "code",
   "execution_count": null,
   "id": "dd17c7e5",
   "metadata": {},
   "outputs": [
    {
     "data": {
      "text/plain": [
       "{'message': 'SDK token sent. Check your email.'}"
      ]
     },
     "execution_count": 2,
     "metadata": {},
     "output_type": "execute_result"
    }
   ],
   "source": [
    "# Initialize client\n",
    "client = AtlasClient()\n",
    "\n",
    "\n",
    "# Login - will reuse saved credentials if available\n",
    "client.login(\"your-email@example.com\")"
   ]
  },
  {
   "cell_type": "code",
   "execution_count": 3,
   "id": "e940f948",
   "metadata": {},
   "outputs": [
    {
     "data": {
      "text/plain": [
       "{'message': 'Magic link validated.',\n",
       " 'email': 'amirhossein.nakhaei@rwth-aachen.de',\n",
       " 'credits': 5000}"
      ]
     },
     "execution_count": 3,
     "metadata": {},
     "output_type": "execute_result"
    }
   ],
   "source": [
    "# If you received a magic link, validate it here\n",
    "# comment out if not needed\n",
    "client.validate_magic_link(input(\"Enter the token you received in your email: \").strip())"
   ]
  },
  {
   "cell_type": "code",
   "execution_count": 4,
   "id": "b7e6d06f",
   "metadata": {},
   "outputs": [
    {
     "name": "stdout",
     "output_type": "stream",
     "text": [
      "Found 116 features\n",
      "\n",
      "📋 paper\n",
      "   features of a paper.\n",
      "   Type: array | ID: 67531047...\n",
      "\n",
      "📋 title\n",
      "   The title of the paper.\n",
      "   Type: string | ID: 67531047...\n",
      "\n",
      "📋 experiments\n",
      "   The experiments in a paper.\n",
      "   Type: array | ID: 67531048...\n",
      "\n",
      "📋 name\n",
      "   The name of the experiments in the study.\n",
      "   Type: string | ID: 67531048...\n",
      "\n",
      "📋 description\n",
      "   Description of the found experiment.\n",
      "   Type: string | ID: 67531048...\n",
      "\n"
     ]
    }
   ],
   "source": [
    "# List features\n",
    "features = client.list_features()\n",
    "print(f\"Found {len(features)} features\\n\")\n",
    "\n",
    "# Display in a nice format\n",
    "for f in features[:5]:\n",
    "    print(f\"📋 {f.feature_name}\")\n",
    "    print(f\"   {f.feature_description}\")\n",
    "    print(f\"   Type: {f.feature_type} | ID: {f.id[:8]}...\")\n",
    "    print()"
   ]
  },
  {
   "cell_type": "code",
   "execution_count": 5,
   "id": "82e533a5",
   "metadata": {},
   "outputs": [
    {
     "name": "stdout",
     "output_type": "stream",
     "text": [
      "Total papers: 7\n",
      "\n",
      "📄 whiting-watts-2024-a-framework-for-quantifying-individual-and-collective-common-sense.pdf (ID: 687d2ba6...)\n",
      "📄 1_s20_S0198971523001151_main (1).pdf (ID: 687e0e51...)\n",
      "📄 Applying_Mobile_Location_Data_to_Improve_Hurricane_Evacuation_Plans.pdf (ID: 687e1066...)\n",
      "📄 10.1016%2Fj.jesp.2010.04.012.pdf (ID: 687e4375...)\n",
      "📄 10.1111%2F1467-9256.12043.pdf (ID: 687e4376...)\n"
     ]
    }
   ],
   "source": [
    "# List your papers\n",
    "papers = client.list_papers(page=1, page_size=5)\n",
    "print(f\"Total papers: {papers.total_papers}\\n\")\n",
    "\n",
    "for p in papers.papers:\n",
    "    print(f\"📄 {p.title or p.file_name} (ID: {p.id[:8]}...)\")"
   ]
  },
  {
   "cell_type": "code",
   "execution_count": 7,
   "id": "434fc0c7",
   "metadata": {},
   "outputs": [
    {
     "name": "stdout",
     "output_type": "stream",
     "text": [
      "sample: 0 papers\n",
      "Sample working feature: 0 papers\n",
      "human mobility: 5 papers\n",
      "Workshop project: 5 papers\n",
      "paper: [{'title': 'Does Inter-group Deliberation Foster Inter-group Appreciation? Evidence from Two Experiments in Belgium', 'experiments': [{'name': 'First experiment', 'description': 'A half-day deliberative mini-public with 83 participants organized into nine groups (three Dutch-speaking, three French-speaking and three mixed) to discuss “how do you see the future of Belgium?” without briefing materials and with a uniform moderator format, in a relatively ‘cold’ setting with limited real-world consequences.', 'context': 'physical lab', 'number_of_deliberation_groups': 9, 'number_of_deliberation_groups_copy': '9'}, {'name': 'G1000 Citizens’ Summit', 'description': 'A one-day citizens’ summit with 704 participants seated in 81 tables (30 Dutch-only, 19 French-only, 32 bilingual), each table of 7–10 people with gender and language balance, discussing three topics (social security, welfare distribution, immigration) introduced by experts and led by trained moderators, to formulate policy proposals in a ‘hot’ deliberative setting with high media coverage.', 'context': 'physical lab', 'number_of_deliberation_groups': 81, 'number_of_deliberation_groups_copy': '81'}]}]\n",
      "created_at: 2025-07-21 14:12:48\n",
      "paper: [{'title': 'Tell me more: The effects of expressed interest on receptiveness during dialog', 'experiments': [{'name': 'Study 1 – receiving an expression of interest', 'description': 'In a physical lab, undergraduates opposed to a proposed comprehensive‐exam requirement engaged in a scripted instant‐message exchange with a fictitious pro‐exam counterpart. Participants first presented their arguments, then received pro‐exam arguments either followed by an elaboration question expressing interest (“Can you tell me more…?”) or without it, and finally provided a second set of responses. Outcomes included ratings of the counterpart’s open‐mindedness, self‐rated receptiveness, perceptions of typical proponents of the counterpart’s position, and naïve judges’ receptiveness ratings to participants’ written replies.', 'context': 'physical lab', 'number_of_deliberation_groups': 2, 'number_of_deliberation_groups_copy': '2'}, {'name': 'Study 2 – delivering an expression of interest', 'description': 'In a physical lab, undergraduates preselected for opposing universal veganism watched a 2‐minute pro‐veganism video. One group (“questioners,” N=25) was instructed to generate open‐ended elaboration questions to better understand the speaker’s viewpoint; the other group (“commenters,” N=24) was instructed to list comments comparing the speaker’s view to their own. Afterwards, participants rated their willingness to converse further, impressions of typical proponents and opponents, and post‐manipulation agreement with the speech’s conclusions.', 'context': 'physical lab', 'number_of_deliberation_groups': 2, 'number_of_deliberation_groups_copy': '2'}]}]\n",
      "created_at: 2025-07-21 14:12:48\n",
      "paper: [{'title': 'Group and Individual Differences in Deliberative Experience: A Study of Ideology, Attitude Change, and Deliberation in Small Face-to-Face Groups', 'experiments': [{'name': 'Small face-to-face group deliberation study', 'description': 'Fifty-seven zero-history groups of three to six undergraduate students met in a classroom circle for 30–60 minutes to discuss one of three national issues (drug-related violent crime, environmental pollution, or economic prosperity of poor and working-class Americans). Each participant completed a pre-discussion questionnaire (measuring ideology, Big Five personality traits, and baseline issue attitudes), then after discussion completed a post-discussion questionnaire (measuring issue attitudes and perceptions of deliberation). Group discussions were videotaped, transcribed, and coded by observers for deliberation quality. Groups were tasked with recommending a politically realistic policy solution and estimating its public support.', 'context': 'physical lab', 'number_of_deliberation_groups': 57, 'number_of_deliberation_groups_copy': '57'}]}]\n",
      "created_at: 2025-07-21 14:13:08\n",
      "paper: [{'title': 'The Effect of Group Polarization on Opposition to Donald Trump', 'experiments': [{'name': 'Trump nonsupporter focus groups', 'description': 'Eight focus‐group sessions were held with college‐student participants who self‐identified as opposing Donald Trump during the 2016 presidential campaign. In each 3–5 person group, participants viewed videos of Trump on various issues, completed a pre‐discussion questionnaire rating their support for Trump’s positions (1\\u2009=\\u2009extremely opposed to 9\\u2009=\\u2009extremely in favor), engaged in a two‐hour moderated discussion following a structured guide, and then completed the same questionnaire post‐discussion to measure changes in attitude (group polarization).', 'context': 'physical lab', 'number_of_deliberation_groups': 8, 'number_of_deliberation_groups_copy': 'eight'}]}]\n",
      "created_at: 2025-07-21 14:13:12\n"
     ]
    }
   ],
   "source": [
    "projects = client.list_projects()\n",
    "for project in projects:\n",
    "    print(f\"{project.title}: {len(project.papers)} papers\")\n",
    "\n",
    "# Get specific project results\n",
    "project_id = projects[3].id\n",
    "results = client.get_project_results(project_id)\n",
    "\n",
    "# Process results\n",
    "for result in results[\"results\"]:\n",
    "    paper_id = result.get(\"_paper_id\")\n",
    "    version = result.get(\"_version\", 1)\n",
    "    # Access extracted features from the result\n",
    "    for key, value in result.items():\n",
    "        if not key.startswith(\"_\"):  # Skip metadata fields\n",
    "            print(f\"{key}: {value}\")"
   ]
  },
  {
   "cell_type": "code",
   "execution_count": null,
   "id": "bcc6d10e",
   "metadata": {},
   "outputs": [],
   "source": [
    "# Create a new feature\n",
    "new_feature = FeatureCreate(\n",
    "    feature_name=\"Study Duration\",\n",
    "    feature_description=\"Duration of the study in months\",\n",
    "    feature_identifier=\"study_duration\",\n",
    "    feature_type=\"integer\",\n",
    ")\n",
    "\n",
    "created = client.create_feature(new_feature)\n",
    "print(f\"✅ Created: {created.feature_name}\")\n",
    "print(f\"   ID: {created.id}\")"
   ]
  }
 ],
 "metadata": {
  "kernelspec": {
   "display_name": ".venv",
   "language": "python",
   "name": "python3"
  },
  "language_info": {
   "codemirror_mode": {
    "name": "ipython",
    "version": 3
   },
   "file_extension": ".py",
   "mimetype": "text/x-python",
   "name": "python",
   "nbconvert_exporter": "python",
   "pygments_lexer": "ipython3",
   "version": "3.12.1"
  }
 },
 "nbformat": 4,
 "nbformat_minor": 5
}
