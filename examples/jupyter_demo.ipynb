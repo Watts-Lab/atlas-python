{
 "cells": [
  {
   "cell_type": "code",
   "execution_count": null,
   "id": "6397e698",
   "metadata": {},
   "outputs": [],
   "source": [
    "\"\"\"\n",
    "# Atlas SDK - Jupyter Demo\n",
    "\n",
    "This notebook shows how to use the Atlas SDK in Jupyter.\n",
    "\"\"\"\n",
    "\n",
    "from wattslab_atlas import AtlasClient\n",
    "from wattslab_atlas.models import FeatureCreate"
   ]
  },
  {
   "cell_type": "code",
   "execution_count": null,
   "id": "dd17c7e5",
   "metadata": {},
   "outputs": [],
   "source": [
    "# Initialize client\n",
    "client = AtlasClient()\n",
    "\n",
    "# Cell 3\n",
    "# Login - will reuse saved credentials if available\n",
    "client.login(\"your-email@example.com\")\n",
    "\n",
    "# Cell 4\n",
    "# If you received a magic link, validate it here\n",
    "# client.validate_magic_link(\"your-token-here\")\n",
    "\n",
    "# Cell 5\n",
    "# List features\n",
    "features = client.list_features()\n",
    "print(f\"Found {len(features)} features\\n\")\n",
    "\n",
    "# Display in a nice format\n",
    "for f in features[:5]:\n",
    "    print(f\"📋 {f.feature_name}\")\n",
    "    print(f\"   {f.feature_description}\")\n",
    "    print(f\"   Type: {f.feature_type} | ID: {f.id[:8]}...\")\n",
    "    print()\n",
    "\n",
    "# Cell 6\n",
    "# List your papers\n",
    "papers = client.list_papers(page=1, page_size=5)\n",
    "print(f\"Total papers: {papers.total_papers}\\n\")\n",
    "\n",
    "for p in papers.papers:\n",
    "    print(f\"📄 {p.title or p.file_name} (ID: {p.id[:8]}...)\")\n",
    "\n",
    "# Cell 7\n",
    "# Create a new feature\n",
    "new_feature = FeatureCreate(\n",
    "    feature_name=\"Study Duration\",\n",
    "    feature_description=\"Duration of the study in months\",\n",
    "    feature_identifier=\"study_duration\",\n",
    "    feature_type=\"integer\",\n",
    ")\n",
    "\n",
    "created = client.create_feature(new_feature)\n",
    "print(f\"✅ Created: {created.feature_name}\")\n",
    "print(f\"   ID: {created.id}\")\n",
    "\n",
    "# Cell 8\n",
    "# Upload a paper\n",
    "# result = client.upload_paper(\"your-project-id\", \"path/to/paper.pdf\")\n",
    "# print(f\"Upload task: {result}\")"
   ]
  }
 ],
 "metadata": {
  "language_info": {
   "name": "python"
  }
 },
 "nbformat": 4,
 "nbformat_minor": 5
}
